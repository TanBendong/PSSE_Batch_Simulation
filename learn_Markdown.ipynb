{
 "cells": [
  {
   "cell_type": "markdown",
   "metadata": {},
   "source": [
    "# 1. 段落、标题、区块代码  \n",
    "一个段落是由一个以上的连接的行句组成，而一个以上的空行则会划分出不同的段落（空行的定义是显示上看起来像是空行，就被视为空行，例如有一行只有空白和 tab，那该行也会被视为空行），一般的段落不需要用空白或换行缩进。\n",
    "\n",
    "Markdown 支持两种标题的语法，Setext 和 atx 形式。Setext 形式是用底线的形式，利用 = （最高阶标题）和 - （第二阶标题），Atx 形式在行首插入 1 到 6 个 # ，对应到标题 1 到 6 阶。\n",
    "\n",
    "区块引用则使用 email 形式的 '>' 角括号。\n",
    "\n",
    "ps: 加粗、斜体仅仅 对英文有效\n",
    "\n",
    "Markdown 语法:"
   ]
  },
  {
   "cell_type": "markdown",
   "metadata": {
    "collapsed": true
   },
   "source": [
    "A First Level Header\n",
    "====================\n",
    "A Second Level Header\n",
    "---------------------\n",
    "\n",
    "Now is the time for all good men to come to  \n",
    "the aid of their country. This is just a  \n",
    "regular paragraph.\n",
    "\n",
    "The quick brown fox jumped over the lazy dog's back.\n",
    "### Header 3\n",
    "\n",
    "> This is a blockquote.\n",
    "> \n",
    "> This is the second paragraph in the blockquote.\n",
    ">\n",
    "> ## This is an H2 in a blockquote"
   ]
  },
  {
   "cell_type": "markdown",
   "metadata": {},
   "source": []
  },
  {
   "cell_type": "markdown",
   "metadata": {},
   "source": [
    "# 2.修辞和强调  \n",
    "Markdown 使用星号和底线来标记需要强调的区段。\n",
    "\n",
    "Markdown 语法:"
   ]
  },
  {
   "cell_type": "markdown",
   "metadata": {},
   "source": [
    "Some of these words *are emphasized*.  \n",
    "Some of these words _are emphasized also_.  \n",
    "Use two asterisks for **strong emphasis**.  \n",
    "Or, if you prefer, __use two underscores instead__.  "
   ]
  },
  {
   "cell_type": "markdown",
   "metadata": {},
   "source": []
  },
  {
   "cell_type": "markdown",
   "metadata": {},
   "source": [
    "# 3.列表\n",
    "\n",
    "## 3.1 无序列表使用星号、加号和减号来做为列表的项目标记，这些符号是都可以使用的\n",
    "\n",
    "使用星号："
   ]
  },
  {
   "cell_type": "markdown",
   "metadata": {},
   "source": [
    "* Candy.\n",
    "* Gum.\n",
    "* Booze."
   ]
  },
  {
   "cell_type": "markdown",
   "metadata": {},
   "source": [
    "加号："
   ]
  },
  {
   "cell_type": "markdown",
   "metadata": {},
   "source": [
    "+ Candy.\n",
    "\t+ Gum.\n",
    "\t+ Booze."
   ]
  },
  {
   "cell_type": "markdown",
   "metadata": {},
   "source": [
    "减号："
   ]
  },
  {
   "cell_type": "markdown",
   "metadata": {},
   "source": [
    "- Candy.\n",
    "\t- Gum.\n",
    "\t\t- Booze."
   ]
  },
  {
   "cell_type": "markdown",
   "metadata": {},
   "source": [
    "## 3.2 有序的列表则是使用一般的数字接着一个英文句点作为项目标记："
   ]
  },
  {
   "cell_type": "markdown",
   "metadata": {},
   "source": [
    "1. Red\n",
    "2. Green\n",
    "3. Blue"
   ]
  },
  {
   "cell_type": "markdown",
   "metadata": {},
   "source": [
    "如果你在项目之间插入空行，那项目的内容会用 <<p>> 包起来，你也可以在一个项目内放上多个段落，只要在它前面缩排 4 个空白或 1 个 tab 。"
   ]
  },
  {
   "cell_type": "markdown",
   "metadata": {},
   "source": [
    "* A list item.\n",
    "\t\n",
    "\tWith multiple paragraphs.\n",
    "\n",
    "* Another item in the list."
   ]
  },
  {
   "cell_type": "markdown",
   "metadata": {},
   "source": []
  },
  {
   "cell_type": "markdown",
   "metadata": {},
   "source": [
    "# 4.链接 "
   ]
  },
  {
   "cell_type": "markdown",
   "metadata": {},
   "source": [
    "Markdown 支援两种形式的链接语法： 行内 和 参考 两种形式，两种都是使用角括号来把文字转成连结。\n",
    "\n",
    "行内形式是直接在后面用括号直接接上链接："
   ]
  },
  {
   "cell_type": "markdown",
   "metadata": {},
   "source": [
    "This is an [example link](http://example.com/)."
   ]
  },
  {
   "cell_type": "markdown",
   "metadata": {},
   "source": [
    "你也可以选择性的加上 title 属性："
   ]
  },
  {
   "cell_type": "markdown",
   "metadata": {},
   "source": [
    "This is an [Baidu](http://www.baidu.com/ \"With a Title\")."
   ]
  },
  {
   "cell_type": "markdown",
   "metadata": {},
   "source": [
    "参考形式的链接让你可以为链接定一个名称，之后你可以在文件的其他地方定义该链接的内容："
   ]
  },
  {
   "cell_type": "markdown",
   "metadata": {},
   "source": [
    "I get 10 times more traffic from [Google][1] than from\n",
    "[Yahoo][2] or [MSN][3].\n",
    "\n",
    "[1]: http://google.com/ \"Google\"\n",
    "[2]: http://search.yahoo.com/ \"Yahoo Search\"\n",
    "[3]: http://search.msn.com/ \"MSN Search\""
   ]
  },
  {
   "cell_type": "markdown",
   "metadata": {},
   "source": [
    "title 属性是选择性的，链接名称可以用字母、数字和空格，但是不分大小写："
   ]
  },
  {
   "cell_type": "markdown",
   "metadata": {},
   "source": [
    "I start my morning with a cup of coffee and\n",
    "[The New York Times][NY Times].\n",
    "\n",
    "[ny times]: http://www.nytimes.com/"
   ]
  },
  {
   "cell_type": "markdown",
   "metadata": {},
   "source": [
    "\t"
   ]
  },
  {
   "cell_type": "markdown",
   "metadata": {},
   "source": [
    "# 5.图片"
   ]
  },
  {
   "cell_type": "markdown",
   "metadata": {},
   "source": [
    "很明显地，要在纯文字应用中设计一个「自然」的语法来插入图片是有一定难度的。\n",
    "\n",
    "Markdown 使用一种和链接很相似的语法来标记图片，同样也允许两种样式： 行内式和参考式。\n",
    "\n",
    "行内式的图片语法看起来像是："
   ]
  },
  {
   "cell_type": "markdown",
   "metadata": {},
   "source": [
    "![Alt text](/path/to/img.jpg)\n",
    "\n",
    "![Alt text](https://timgsa.baidu.com/timg?image&quality=80&size=b9999_10000&sec=1527144486720&di=70afbee8d5c8e37eea59048b5bf99baa&imgtype=0&src=http%3A%2F%2Fimg.lanrentuku.com%2Fimg%2Fallimg%2F1504%2F46-1504141F3200-L.jpg \"Optional title\")"
   ]
  },
  {
   "cell_type": "markdown",
   "metadata": {},
   "source": [
    "详细叙述如下：\n",
    "\n",
    "- 一个惊叹号 !\n",
    "- 接着一个方括号，里面放上图片的替代文字\n",
    "- 接着一个普通括号，里面放上图片的网址，最后还可以用引号包住并加上 选择性的 'title' 文字。\n",
    "\n",
    "参考式的图片语法则长得像这样："
   ]
  },
  {
   "cell_type": "markdown",
   "metadata": {},
   "source": [
    "![Alt text][id]\n",
    "\n",
    "[id]: https://timgsa.baidu.com/timg?image&quality=80&size=b9999_10000&sec=1527144486565&di=02bb0e47b69c7c1f44d45668adc85d38&imgtype=0&src=http%3A%2F%2Fimg2.cxtuku.com%2F00%2F12%2F41%2Fs3294aa94e00.jpg  \"Optional title attribute\""
   ]
  },
  {
   "cell_type": "markdown",
   "metadata": {},
   "source": [
    "「id」是图片参考的名称，图片参考的定义方式则和连结参考一样"
   ]
  }
 ],
 "metadata": {
  "kernelspec": {
   "display_name": "Python 3",
   "language": "python",
   "name": "python3"
  },
  "language_info": {
   "codemirror_mode": {
    "name": "ipython",
    "version": 3
   },
   "file_extension": ".py",
   "mimetype": "text/x-python",
   "name": "python",
   "nbconvert_exporter": "python",
   "pygments_lexer": "ipython3",
   "version": "3.4.5"
  }
 },
 "nbformat": 4,
 "nbformat_minor": 1
}
