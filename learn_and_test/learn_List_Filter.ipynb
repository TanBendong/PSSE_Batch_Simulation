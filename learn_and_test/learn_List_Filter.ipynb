{
 "cells": [
  {
   "cell_type": "markdown",
   "metadata": {
    "collapsed": true
   },
   "source": [
    "# 列表，字典和集合筛选数据方法\n",
    "[文章链接](https://blog.csdn.net/autista/article/details/54379065)"
   ]
  },
  {
   "cell_type": "markdown",
   "metadata": {},
   "source": [
    "#### 经常会遇到如下需求：\n",
    "* 过滤列表[5, 18, -9, 35, 20, -12 ...]中的负数\n",
    "* 筛出字典{'Andrew':64, 'Jack':88, 'Leo':96 ...}中值高于80的项\n",
    "* 筛出集合{54, 65, 37, 43 ...}中能被3整除的元素"
   ]
  },
  {
   "cell_type": "markdown",
   "metadata": {},
   "source": [
    "通常的做法是迭代，但不高效可以使用一些高级函数来简化——\n"
   ]
  },
  {
   "cell_type": "markdown",
   "metadata": {},
   "source": [
    "## 1 列表\n",
    "列表筛选数据有filter函数和列表生成式两种。 \n",
    "\n",
    "这里生成一个范围在-10到10之间的10个元素的列表，然后筛选出其中大于等于0的元素。"
   ]
  },
  {
   "cell_type": "code",
   "execution_count": 1,
   "metadata": {},
   "outputs": [
    {
     "name": "stdout",
     "output_type": "stream",
     "text": [
      "[10, -2, 7, 1, 10, -9, -7, -8, -3, 8]\n"
     ]
    }
   ],
   "source": [
    "from random import randint\n",
    "data = [randint(-10, 10) for i in range(1, 11)]\n",
    "print(data)     "
   ]
  },
  {
   "cell_type": "markdown",
   "metadata": {},
   "source": [
    "- filter函数方法"
   ]
  },
  {
   "cell_type": "code",
   "execution_count": 5,
   "metadata": {},
   "outputs": [
    {
     "name": "stdout",
     "output_type": "stream",
     "text": [
      "[10, 7, 1, 10, 8]\n"
     ]
    }
   ],
   "source": [
    "new1 = list(filter(lambda x: x >= 0, data))\n",
    "print(new1)     #用filter函数的方法筛选"
   ]
  },
  {
   "cell_type": "markdown",
   "metadata": {},
   "source": [
    "- 列表生成式"
   ]
  },
  {
   "cell_type": "code",
   "execution_count": 4,
   "metadata": {},
   "outputs": [
    {
     "name": "stdout",
     "output_type": "stream",
     "text": [
      "[10, 7, 1, 10, 8]\n"
     ]
    }
   ],
   "source": [
    "new2 = [x for x in data if x >= 0]\n",
    "print(new2)     #用列表生成式的方法筛选，结果和filter筛选结果一致"
   ]
  },
  {
   "cell_type": "markdown",
   "metadata": {},
   "source": [
    "## 2 字典 "
   ]
  },
  {
   "cell_type": "markdown",
   "metadata": {},
   "source": [
    "这里我们生成一个字典，代表着20个人编号为1~20，每个人成绩在60~100分随机生成，筛选出成绩大于90分的学生编号。"
   ]
  },
  {
   "cell_type": "code",
   "execution_count": 13,
   "metadata": {},
   "outputs": [
    {
     "name": "stdout",
     "output_type": "stream",
     "text": [
      "{'编号17': 84, '编号14': 95, '编号16': 64, '编号4': 92, '编号20': 79, '编号18': 70, '编号7': 63, '编号13': 72, '编号9': 94, '编号19': 62, '编号1': 86, '编号8': 60, '编号3': 96, '编号5': 65, '编号10': 86, '编号11': 78, '编号2': 79, '编号15': 96, '编号6': 79, '编号12': 98}\n"
     ]
    }
   ],
   "source": [
    "from random import randint\n",
    "d = {'编号'+str(x): randint(60, 100) for x in range(1, 21)}\n",
    "print(d)"
   ]
  },
  {
   "cell_type": "code",
   "execution_count": 14,
   "metadata": {},
   "outputs": [
    {
     "name": "stdout",
     "output_type": "stream",
     "text": [
      "分数大于90的为：\n {'编号3': 96, '编号14': 95, '编号4': 92, '编号12': 98, '编号15': 96, '编号9': 94}\n"
     ]
    }
   ],
   "source": [
    "d1 = {k: v for k, v in d.items() if v > 90}\n",
    "print('分数大于90的为：\\n', d1)"
   ]
  },
  {
   "cell_type": "markdown",
   "metadata": {},
   "source": [
    "## 3 集合\n",
    "我们把前面的data转为集合，筛选出能被3整除的元素"
   ]
  },
  {
   "cell_type": "code",
   "execution_count": 16,
   "metadata": {},
   "outputs": [
    {
     "name": "stdout",
     "output_type": "stream",
     "text": [
      "原集合为： {1, 7, 8, 10, -9, -8, -7, -3, -2} \n\n能被3整除的集合为： {-3, -9}\n"
     ]
    }
   ],
   "source": [
    "s = set(data)\n",
    "s1 = {x for x in s if x % 3 == 0}\n",
    "print('原集合为：', s, '\\n')\n",
    "print('能被3整除的集合为：', s1)\n"
   ]
  }
 ],
 "metadata": {
  "kernelspec": {
   "display_name": "Python 2",
   "language": "python",
   "name": "python2"
  },
  "language_info": {
   "codemirror_mode": {
    "name": "ipython",
    "version": 2
   },
   "file_extension": ".py",
   "mimetype": "text/x-python",
   "name": "python",
   "nbconvert_exporter": "python",
   "pygments_lexer": "ipython2",
   "version": "2.7.6"
  }
 },
 "nbformat": 4,
 "nbformat_minor": 0
}
