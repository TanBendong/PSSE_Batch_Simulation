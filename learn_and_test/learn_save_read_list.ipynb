{
 "cells": [
  {
   "cell_type": "markdown",
   "metadata": {},
   "source": [
    "# 将 list 保存为 txt 文件，并重新读取恢复为 list"
   ]
  },
  {
   "cell_type": "markdown",
   "metadata": {},
   "source": [
    "[参考](https://www.cnblogs.com/yuer011/p/6870181.html)\n",
    "\n",
    "* f.read()\n",
    "* f.readline()\n",
    "* f.readlines()"
   ]
  },
  {
   "cell_type": "markdown",
   "metadata": {},
   "source": [
    "### 1) 将 1 个列表写进 txt， 并读出"
   ]
  },
  {
   "cell_type": "markdown",
   "metadata": {
    "collapsed": true
   },
   "source": [
    "* 单 list 写/读"
   ]
  },
  {
   "cell_type": "code",
   "execution_count": 1,
   "metadata": {},
   "outputs": [
    {
     "name": "stdout",
     "output_type": "stream",
     "text": [
      "用f.read()得到： [3, 5, 7, 9, 11, 13] <class 'str'>\n用f.readlines()得到： ['[3, 5, 7, 9, 11, 13]'] <class 'list'>\n"
     ]
    }
   ],
   "source": [
    "lst_t = [i for i in range(3, 15, 2)]\n",
    "# 写\n",
    "with open('test_1_list.txt', 'w') as ft:\n",
    "\tft.write(str(lst_t))\n",
    "# 读\n",
    "with open('test_1_list.txt', 'r') as ft:\n",
    "\tlst_t_read = ft.read()       # 返回所有字符串\n",
    "\tft.seek(0, 0)\n",
    "\tlst_t_readlines = ft.readlines()  # 返回一个列表，每个索引对应一行字符串\n",
    "\n",
    "print('用f.read()得到：', lst_t_read, type(lst_t_read))\n",
    "print('用f.readlines()得到：', lst_t_readlines, type(lst_t_readlines))\n"
   ]
  },
  {
   "cell_type": "markdown",
   "metadata": {},
   "source": [
    "* 读出字符串 -- 恢复为 --> list \n",
    "\n",
    "1 . 恢复 f.read()"
   ]
  },
  {
   "cell_type": "code",
   "execution_count": 2,
   "metadata": {},
   "outputs": [
    {
     "name": "stdout",
     "output_type": "stream",
     "text": [
      "3,5,7,9,11,13 <class 'str'>\n['3', '5', '7', '9', '11', '13'] <class 'list'>\n[3, 5, 7, 9, 11, 13] <class 'list'>\n"
     ]
    }
   ],
   "source": [
    "lst_t_read = lst_t_read.replace('[', '')\n",
    "lst_t_read = lst_t_read.replace(']', '')\n",
    "lst_t_read = lst_t_read.replace(' ', '')  # 删除空格\n",
    "print(lst_t_read, type(lst_t_read))\n",
    "\n",
    "lst_t_read = lst_t_read.split(',')   \t\t# 按 ',' 分割字符串\n",
    "print(lst_t_read, type(lst_t_read))\n",
    "\n",
    "lst_t_read = [int(i) for i in lst_t_read]\n",
    "print(lst_t_read, type(lst_t_read))\n"
   ]
  },
  {
   "cell_type": "markdown",
   "metadata": {},
   "source": [
    "2 . 恢复 f.readlines()"
   ]
  },
  {
   "cell_type": "code",
   "execution_count": 3,
   "metadata": {},
   "outputs": [
    {
     "name": "stdout",
     "output_type": "stream",
     "text": [
      "3, 5, 7, 9, 11, 13 <class 'str'>\n['3', '5', '7', '9', '11', '13'] <class 'list'>\n[3, 5, 7, 9, 11, 13] <class 'list'>\n"
     ]
    }
   ],
   "source": [
    "lst_t_readlines = lst_t_readlines[0].replace('[', '')   # 与 1. 区别就在先取 索引 [0]\n",
    "lst_t_readlines = lst_t_readlines.replace(']', '')\n",
    "print(lst_t_readlines, type(lst_t_readlines))\n",
    "\n",
    "lst_t_readlines = lst_t_readlines.split(', ')              # 按 ',  ' 分割字符串\n",
    "print(lst_t_readlines, type(lst_t_readlines))\n",
    "\n",
    "lst_t_readlines = [int(i) for i in lst_t_readlines]\n",
    "print(lst_t_readlines, type(lst_t_readlines))"
   ]
  },
  {
   "cell_type": "markdown",
   "metadata": {},
   "source": [
    "### 2) 将 2 个不同列表都写进 txt， 并分别读出"
   ]
  },
  {
   "cell_type": "code",
   "execution_count": 5,
   "metadata": {
    "collapsed": true
   },
   "outputs": [
    {
     "name": "stdout",
     "output_type": "stream",
     "text": [
      "[0, 1, 2, 3, 4, 5, 6, 7, 8, 9] <class 'list'>\n[6, 10, 14, 18, 22, 26, 30, 34, 38] <class 'list'>\n"
     ]
    }
   ],
   "source": [
    "# 生成列表\n",
    "lst1 = [i for i in range(10)]\n",
    "lst2 = [i * 2 for i in range(3, 20, 2)]\n",
    "print(lst1, type(lst1))\n",
    "print(lst2,  type(lst2))"
   ]
  },
  {
   "cell_type": "code",
   "execution_count": 130,
   "metadata": {},
   "outputs": [
    {
     "name": "stdout",
     "output_type": "stream",
     "text": [
      "['[0, 1, 2, 3, 4, 5, 6, 7, 8, 9]\\n', '[6, 10, 14, 18, 22, 26, 30, 34, 38]\\n'] <class 'list'>\n[0, 1, 2, 3, 4, 5, 6, 7, 8, 9]\n <class 'str'>\n"
     ]
    }
   ],
   "source": [
    "# 写\n",
    "f1 = open('test1.txt', 'w')\n",
    "f1.writelines(str(lst1)+'\\n')\n",
    "f1.writelines(str(lst2)+'\\n')\n",
    "f1.close()\n",
    "\n",
    "# 读\n",
    "with open('test1.txt', 'r') as f2:\n",
    "\tlst_read = f2.readlines()  # 一次性读取，返回 list, 大文件不要用\n",
    "\n",
    "print(lst_read, type(lst_read))\n",
    "print(lst_read[0], type(lst_read[0]))\n"
   ]
  },
  {
   "cell_type": "code",
   "execution_count": 131,
   "metadata": {
    "collapsed": true
   },
   "outputs": [
    {
     "name": "stdout",
     "output_type": "stream",
     "text": [
      "['[', '0', ',', ' ', '1', ',', ' ', '2', ',', ' ', '3', ',', ' ', '4', ',', ' ', '5', ',', ' ', '6', ',', ' ', '7', ',', ' ', '8', ',', ' ', '9', ']', '\\n']\n['0', '1', '2', '3', '4', '5', '6', '7', '8', '9'] <class 'list'>\n[0, 1, 2, 3, 4, 5, 6, 7, 8, 9] <class 'list'>\n"
     ]
    }
   ],
   "source": [
    "# list 恢复\n",
    "lst_read_1, lst_read_2 = lst_read[0], lst_read[1]\n",
    "print(list(lst_read_1))\n",
    "\n",
    "lst_read_1 = lst_read_1.replace('[', '')\n",
    "lst_read_1 = lst_read_1.replace(']\\n', '')\n",
    "lst_read_1 = lst_read_1.replace(' ', '').split(',')\n",
    "print(lst_read_1, type(lst_read_1))\n",
    "\n",
    "lst_read_1_done = [int(i) for i in lst_read_1]\n",
    "print(lst_read_1_done, type(lst_read_1_done))  # 恢复结果！！！！！！！！！！！！！"
   ]
  },
  {
   "cell_type": "markdown",
   "metadata": {},
   "source": [
    "# 将 list 存储为 csv 文件\n",
    "[链接](https://jingyan.baidu.com/article/9c69d48ff3123d13c9024e06.html)"
   ]
  }
 ],
 "metadata": {
  "kernelspec": {
   "display_name": "Python 2",
   "language": "python",
   "name": "python2"
  },
  "language_info": {
   "codemirror_mode": {
    "name": "ipython",
    "version": 2
   },
   "file_extension": ".py",
   "mimetype": "text/x-python",
   "name": "python",
   "nbconvert_exporter": "python",
   "pygments_lexer": "ipython2",
   "version": "2.7.6"
  }
 },
 "nbformat": 4,
 "nbformat_minor": 0
}
