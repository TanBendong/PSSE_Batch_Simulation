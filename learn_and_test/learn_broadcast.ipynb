{
 "cells": [
  {
   "cell_type": "markdown",
   "metadata": {},
   "source": [
    "##### 菜鸟教程-笔记\n",
    "\n",
    "* random 模块常用需求\n",
    "```\n",
    "print( random.randint(1,10) )        # 产生 1 到 10 的一个整数型随机数\n",
    "print( random.random() )             # 产生 0 到 1 之间的随机浮点数\n",
    "print( random.uniform(1.1,5.4) )     # 产生  1.1 到 5.4 之间的随机浮点数，区间可以不是整数\n",
    "print( random.choice('tomorrow') )   # 从序列中随机选取一个元素\n",
    "print( random.randrange(1,100,2) )   # 生成从1到100的间隔为2的随机整数\n",
    "```\n",
    "\n",
    "```\n",
    "a = [1, 3, 5, 6, 7]          # 将序列a中的元素顺序打乱\n",
    "random.shuffle(a)\n",
    "print(a)\n",
    "\n",
    "```"
   ]
  },
  {
   "cell_type": "code",
   "execution_count": 29,
   "metadata": {},
   "outputs": [
    {
     "name": "stdout",
     "output_type": "stream",
     "text": [
      "[ 1.53745698  4.38973495  4.05509848  2.0202761   2.98174035] \n",
      " (5,) \n",
      "\n"
     ]
    }
   ],
   "source": [
    "import random\n",
    "import numpy as np\n",
    "random.seed(a=1)    # 给是随机数设种子，方便复现结果！\n",
    "ls1 = [random.uniform(1, 5) for i in range(5)]\n",
    "len_ls = len(ls1)\n",
    "a = np.array(ls1)\n",
    "print(a, '\\n', a.shape, '\\n')"
   ]
  },
  {
   "cell_type": "markdown",
   "metadata": {},
   "source": [
    "* 广播 [(参考链接)](https://blog.csdn.net/yangnanhai93/article/details/50127747)"
   ]
  },
  {
   "cell_type": "code",
   "execution_count": 31,
   "metadata": {},
   "outputs": [
    {
     "name": "stdout",
     "output_type": "stream",
     "text": [
      "[[ 1.53745698  4.38973495  4.05509848  2.0202761   2.98174035]\n",
      " [ 1.53745698  4.38973495  4.05509848  2.0202761   2.98174035]\n",
      " [ 1.53745698  4.38973495  4.05509848  2.0202761   2.98174035]\n",
      " [ 1.53745698  4.38973495  4.05509848  2.0202761   2.98174035]\n",
      " [ 1.53745698  4.38973495  4.05509848  2.0202761   2.98174035]] \n",
      "\n"
     ]
    }
   ],
   "source": [
    "a_col = a + np.zeros((5, 1))\n",
    "print(a_col, '\\n')"
   ]
  },
  {
   "cell_type": "code",
   "execution_count": 32,
   "metadata": {},
   "outputs": [
    {
     "name": "stdout",
     "output_type": "stream",
     "text": [
      "[[ 1.53745698  1.53745698  1.53745698  1.53745698  1.53745698]\n",
      " [ 4.38973495  4.38973495  4.38973495  4.38973495  4.38973495]\n",
      " [ 4.05509848  4.05509848  4.05509848  4.05509848  4.05509848]\n",
      " [ 2.0202761   2.0202761   2.0202761   2.0202761   2.0202761 ]\n",
      " [ 2.98174035  2.98174035  2.98174035  2.98174035  2.98174035]] \n",
      "\n"
     ]
    }
   ],
   "source": [
    "# 对a转置，\n",
    "aT = a.reshape(5, 1)\n",
    "aT_row = aT + np.zeros((1, 5))\n",
    "print(aT_row, '\\n')"
   ]
  },
  {
   "cell_type": "code",
   "execution_count": 39,
   "metadata": {
    "collapsed": true
   },
   "outputs": [
    {
     "name": "stdout",
     "output_type": "stream",
     "text": [
      "[[ 0.          2.85227797  2.5176415   0.48281913  1.44428337]\n",
      " [-2.85227797  0.         -0.33463647 -2.36945884 -1.4079946 ]\n",
      " [-2.5176415   0.33463647  0.         -2.03482237 -1.07335813]\n",
      " [-0.48281913  2.36945884  2.03482237  0.          0.96146425]\n",
      " [-1.44428337  1.4079946   1.07335813 -0.96146425  0.        ]] \n",
      "\n"
     ]
    }
   ],
   "source": [
    "# 对 a, a.T 做差\n",
    "delta_a = a_col - aT_row\n",
    "print(delta_a, '\\n')\n"
   ]
  },
  {
   "cell_type": "code",
   "execution_count": 40,
   "metadata": {},
   "outputs": [
    {
     "name": "stdout",
     "output_type": "stream",
     "text": [
      "[[ 0.          2.85227797  2.5176415   0.48281913  1.44428337]\n",
      " [ 0.          0.         -0.33463647 -2.36945884 -1.4079946 ]\n",
      " [ 0.          0.          0.         -2.03482237 -1.07335813]\n",
      " [ 0.          0.          0.          0.          0.96146425]\n",
      " [ 0.          0.          0.          0.          0.        ]] \n",
      "\n"
     ]
    }
   ],
   "source": [
    "# 左下三角置0\n",
    "for i in range(len_ls):\n",
    "\tfor j in range(i, len_ls):\n",
    "\t\tdelta_a[j, i] = 0\n",
    "print(delta_a, '\\n')"
   ]
  },
  {
   "cell_type": "code",
   "execution_count": 41,
   "metadata": {
    "collapsed": true
   },
   "outputs": [
    {
     "name": "stdout",
     "output_type": "stream",
     "text": [
      "[[ 0.          2.85227797  2.5176415   0.48281913  1.44428337]\n",
      " [ 0.          0.          0.33463647  2.36945884  1.4079946 ]\n",
      " [ 0.          0.          0.          2.03482237  1.07335813]\n",
      " [ 0.          0.          0.          0.          0.96146425]\n",
      " [ 0.          0.          0.          0.          0.        ]] \n",
      "\n",
      "2.8522779713 \n",
      "\n"
     ]
    }
   ],
   "source": [
    "# 取绝对值 & 返回最大值\n",
    "delta_a = np.abs(delta_a)\n",
    "print(delta_a, '\\n')\n",
    "\n",
    "print(np.max(delta_a), '\\n')\n",
    "\n"
   ]
  },
  {
   "cell_type": "code",
   "execution_count": 43,
   "metadata": {},
   "outputs": [
    {
     "name": "stdout",
     "output_type": "stream",
     "text": [
      "[1] [2]\n",
      "(array([0], dtype=int32), array([1], dtype=int32))\n"
     ]
    }
   ],
   "source": [
    "# 返回np矩阵中，最大值的横纵轴索引\n",
    "x, y = np.where(delta_a == np.max(delta_a)) + np.array([1])\n",
    "print(x, y)\n",
    "print(np.where(delta_a == np.max(delta_a)))"
   ]
  }
 ],
 "metadata": {
  "kernelspec": {
   "display_name": "Python 3",
   "language": "python",
   "name": "python3"
  },
  "language_info": {
   "codemirror_mode": {
    "name": "ipython",
    "version": 3
   },
   "file_extension": ".py",
   "mimetype": "text/x-python",
   "name": "python",
   "nbconvert_exporter": "python",
   "pygments_lexer": "ipython3",
   "version": "3.6.5"
  }
 },
 "nbformat": 4,
 "nbformat_minor": 1
}
